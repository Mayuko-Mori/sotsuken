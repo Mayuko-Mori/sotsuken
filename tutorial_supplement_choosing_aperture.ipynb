{
 "cells": [
  {
   "cell_type": "markdown",
   "metadata": {},
   "source": [
    "## Supplement: Choosing aperture size\n",
    "\n",
    "Fukui+2016a:\n",
    "```\n",
    "After several trials with different aperture radii, we select the optimal aperture radius such that the resultant relative light curve produced by dividing the target-star flux by the sum of the fluxes of the two comparison stars gives the minimum dispersion relative to the best-fitted transit model.\n",
    "```"
   ]
  },
  {
   "cell_type": "code",
   "execution_count": 1,
   "metadata": {
    "ExecuteTime": {
     "end_time": "2017-11-11T06:01:55.711959Z",
     "start_time": "2017-11-11T06:01:55.592341Z"
    },
    "scrolled": false
   },
   "outputs": [
    {
     "name": "stdout",
     "output_type": "stream",
     "text": [
      "Python 3.6.1 :: Continuum Analytics, Inc.\r\n"
     ]
    }
   ],
   "source": [
    "#check python version\n",
    "!python --version"
   ]
  },
  {
   "cell_type": "code",
   "execution_count": 2,
   "metadata": {
    "ExecuteTime": {
     "end_time": "2017-11-11T06:01:55.733180Z",
     "start_time": "2017-11-11T06:01:55.715655Z"
    }
   },
   "outputs": [
    {
     "data": {
      "text/plain": [
       "'astroconda35'"
      ]
     },
     "execution_count": 2,
     "metadata": {},
     "output_type": "execute_result"
    }
   ],
   "source": [
    "#check environment\n",
    "import os\n",
    "os.environ['CONDA_DEFAULT_ENV']"
   ]
  },
  {
   "cell_type": "markdown",
   "metadata": {},
   "source": [
    "## import data"
   ]
  },
  {
   "cell_type": "code",
   "execution_count": 3,
   "metadata": {
    "ExecuteTime": {
     "end_time": "2017-11-11T06:01:55.750397Z",
     "start_time": "2017-11-11T06:01:55.739075Z"
    }
   },
   "outputs": [
    {
     "data": {
      "text/plain": [
       "['../HAT-P-44b/lcf_msct_z_hatp44_170215_t2_c13_r9-14.bjd.dat',\n",
       " '../HAT-P-44b/lcm_msct_r_hatp44_170215_t2_c3_r9-14.bjd.dat',\n",
       " '../HAT-P-44b/lcm_msct_z_hatp44_170215_t2_c1_r9-14.bjd.dat',\n",
       " '../HAT-P-44b/lcf_msct_r_hatp44_170215_t2_c1_r9-14.bjd.dat',\n",
       " '../HAT-P-44b/lcf_msct_z_hatp44_170215_t2_c1_r9-14.bjd.dat',\n",
       " '../HAT-P-44b/lcf_msct_r_hatp44_170215_t2_c3_r9-14.bjd.dat',\n",
       " '../HAT-P-44b/lcm_msct_z_hatp44_170215_t2_c13_r9-14.bjd.dat',\n",
       " '../HAT-P-44b/lcm_msct_r_hatp44_170215_t2_c13_r9-14.bjd.dat',\n",
       " '../HAT-P-44b/lcm_msct_g_hatp44_170215_t2_c13_r9-14.bjd.dat',\n",
       " '../HAT-P-44b/lcf_msct_g_hatp44_170215_t2_c13_r9-14.bjd.dat',\n",
       " '../HAT-P-44b/lcm_msct_z_hatp44_170215_t2_c3_r9-14.bjd.dat',\n",
       " '../HAT-P-44b/lcf_msct_g_hatp44_170215_t2_c3_r9-14.bjd.dat',\n",
       " '../HAT-P-44b/lcf_msct_r_hatp44_170215_t2_c13_r9-14.bjd.dat',\n",
       " '../HAT-P-44b/lcf_msct_z_hatp44_170215_t2_c3_r9-14.bjd.dat',\n",
       " '../HAT-P-44b/lcm_msct_g_hatp44_170215_t2_c1_r9-14.bjd.dat',\n",
       " '../HAT-P-44b/lcm_msct_g_hatp44_170215_t2_c3_r9-14.bjd.dat',\n",
       " '../HAT-P-44b/lcf_msct_g_hatp44_170215_t2_c1_r9-14.bjd.dat',\n",
       " '../HAT-P-44b/lcm_msct_r_hatp44_170215_t2_c1_r9-14.bjd.dat']"
      ]
     },
     "execution_count": 3,
     "metadata": {},
     "output_type": "execute_result"
    }
   ],
   "source": [
    "import glob\n",
    "\n",
    "dirname='../HAT-P-44b'\n",
    "fname = os.path.join(dirname,'*.dat')\n",
    "file_list = glob.glob(fname)\n",
    "file_list"
   ]
  },
  {
   "cell_type": "markdown",
   "metadata": {},
   "source": [
    "## Target, Comparison ID: 2, 1"
   ]
  },
  {
   "cell_type": "code",
   "execution_count": 4,
   "metadata": {
    "ExecuteTime": {
     "end_time": "2017-11-11T06:01:55.765415Z",
     "start_time": "2017-11-11T06:01:55.752706Z"
    }
   },
   "outputs": [
    {
     "data": {
      "text/plain": [
       "'../HAT-P-44b/lcf_msct_g_hatp44_170215_t2_c1_r9-14.bjd.dat'"
      ]
     },
     "execution_count": 4,
     "metadata": {},
     "output_type": "execute_result"
    }
   ],
   "source": [
    "name               = 'hatp44'\n",
    "date               = '170215'\n",
    "target_star_id     = '2'\n",
    "comparison_star_id = '1'\n",
    "radii_range        = '9-14'\n",
    "b                  = 'g'\n",
    "\n",
    "#filename\n",
    "fname='lcf_msct_'+b+'_'+name+'_'+date+'_t'+target_star_id+'_c'+comparison_star_id+'_r'+radii_range+'.bjd.dat'\n",
    "path = os.path.join(dirname,fname)\n",
    "path"
   ]
  },
  {
   "cell_type": "code",
   "execution_count": 5,
   "metadata": {
    "ExecuteTime": {
     "end_time": "2017-11-11T06:01:56.281835Z",
     "start_time": "2017-11-11T06:01:55.768106Z"
    },
    "collapsed": true
   },
   "outputs": [],
   "source": [
    "import pandas as pd\n",
    "import numpy as np\n",
    "\n",
    "data = {}\n",
    "\n",
    "bands   = ['g','r','z']\n",
    "\n",
    "sigma = 5.0\n",
    "\n",
    "\n",
    "for b in bands:\n",
    "    fname = 'lcf_msct_'+b+'_'+name+'_'+date+'_t'+target_star_id+'_c'+\\\n",
    "            comparison_star_id+'_r'+radii_range+'.bjd.dat'\n",
    "    \n",
    "    #combine directory name and filename above\n",
    "    path  = os.path.join(dirname,fname)\n",
    "    \n",
    "    #read data and save into a dataframe\n",
    "    df=pd.read_csv(path, delimiter=' ', parse_dates=True)\n",
    "    \n",
    "    #remove columns (axis=1) with names specified\n",
    "    df=df.drop(['Unnamed: 20','frame'],axis=1)\n",
    "    \n",
    "    #save the dataframe with key \"b\" into a dictionary named \"data\"\n",
    "    df=df.set_index('BJD(TDB)-2450000')\n",
    "    \n",
    "    #find outliers\n",
    "    mask = np.abs(df-df.mean())>(sigma*df.std())\n",
    "    \n",
    "    #remove outliers\n",
    "    df = df[~mask]\n",
    "    \n",
    "    #remove nan\n",
    "    df = df.dropna()\n",
    "    \n",
    "    data[b] =df"
   ]
  },
  {
   "cell_type": "code",
   "execution_count": 6,
   "metadata": {
    "ExecuteTime": {
     "end_time": "2017-11-11T06:01:57.005466Z",
     "start_time": "2017-11-11T06:01:56.285202Z"
    },
    "collapsed": true
   },
   "outputs": [],
   "source": [
    "import numpy as np\n",
    "from astropy import units as u\n",
    "\n",
    "_tc  = 2455696.93695\n",
    "_P   = 4.301219\n",
    "_inc = np.deg2rad(89.10)\n",
    "_t14  = 0.13020\n",
    "_b    = 0.172\n",
    "_k    = np.sqrt(0.01804) #± 0.np.sqrt(00027)\n",
    "Rp = 1.24 #Rjup\n",
    "Rs = 0.949*u.Rsun.to(u.Rjup) #Rsol to Rjup\n",
    "k_ = Rp/Rs\n",
    "\n",
    "_a_s = 11.52\n",
    "#a_s_  = scaled_a(_P, _t14, k_, i=_inc, impact_param=_b)\n",
    "\n",
    "tc_0      = 7.8e3+0.22 #-2450000"
   ]
  },
  {
   "cell_type": "raw",
   "metadata": {
    "ExecuteTime": {
     "end_time": "2017-11-11T03:56:55.299232Z",
     "start_time": "2017-11-11T03:56:52.876010Z"
    }
   },
   "source": [
    "import limbdark as ld\n",
    "\n",
    "teff, uteff, logg, ulogg, feh, ufeh=5300,100, 4.460,0.06, 0.33,0.1\n",
    "\n",
    "ldc_list     = []\n",
    "ldc_err_list = []\n",
    "ldp          = []\n",
    "\n",
    "#for each band\n",
    "for i in 'g*,r*,z*'.split(','):\n",
    "    ldc = ld.claret(i, teff, uteff, logg, ulogg, feh, ufeh, n=int(1e4))\n",
    "    ldp.append(ldc)\n",
    "    \n",
    "    #save in list\n",
    "    #u1,u2\n",
    "    ldc_list.append([ldc[0],ldc[2]]) #take first and third element of ldc \n",
    "    #uncertainties\n",
    "    ldc_err_list.append([ldc[1],ldc[3]]) #take second and fourth element of ldc"
   ]
  },
  {
   "cell_type": "code",
   "execution_count": 7,
   "metadata": {
    "ExecuteTime": {
     "end_time": "2017-11-11T06:01:57.026426Z",
     "start_time": "2017-11-11T06:01:57.008568Z"
    },
    "collapsed": true
   },
   "outputs": [],
   "source": [
    "def u_to_q(u1, u2):\n",
    "    '''\n",
    "    convert limb-darkening coefficients\n",
    "    from u to q\n",
    "    \n",
    "    see Eq. 15 & 16 in Kipping 2013\n",
    "    '''\n",
    "    q1 = (u1 + u2)**2\n",
    "    q2 = u1 / (2 * (u1 + u2))\n",
    "    return q1, q2\n",
    "\n",
    "def q_to_u(q1, q2):\n",
    "    '''\n",
    "    convert limb-darkening coefficients\n",
    "    from q to u\n",
    "    \n",
    "    see Eq. 17 & 18 in Kipping 2013\n",
    "    '''\n",
    "    u1 = 2 * np.sqrt(q1) * q2\n",
    "    u2 = np.sqrt(q1) * (1 - 2*q2)\n",
    "    return u1, u2"
   ]
  },
  {
   "cell_type": "code",
   "execution_count": 8,
   "metadata": {
    "ExecuteTime": {
     "end_time": "2017-11-11T06:01:57.055090Z",
     "start_time": "2017-11-11T06:01:57.028685Z"
    },
    "collapsed": true
   },
   "outputs": [],
   "source": [
    "from pytransit import MandelAgol\n",
    "\n",
    "def transit_model_q(parameters, period, time, model=MandelAgol()):\n",
    "    '''\n",
    "    Compute flux using the Mandel-Agol model:\n",
    "    \\frac{I(\\mu)}{I(1)} = 1 − u_1(1 − \\mu) − u_2(1 − \\mu)^2\n",
    "    '''\n",
    "    k,q1,q2,tc,a,b = parameters\n",
    "    \n",
    "    #compute inclination\n",
    "    inc   = np.arccos(b/a)\n",
    "    #convert u to q\n",
    "    u1,u2 = q_to_u(q1, q2)\n",
    "    #evaluate the model\n",
    "    m = model.evaluate(time, k, (u1,u2), tc, period, a, inc)\n",
    "    \n",
    "    return m"
   ]
  },
  {
   "cell_type": "markdown",
   "metadata": {},
   "source": [
    "See part5 for log likelihood of a transit model."
   ]
  },
  {
   "cell_type": "code",
   "execution_count": 9,
   "metadata": {
    "ExecuteTime": {
     "end_time": "2017-11-11T06:01:57.073100Z",
     "start_time": "2017-11-11T06:01:57.057319Z"
    },
    "collapsed": true
   },
   "outputs": [],
   "source": [
    "def loglike(params, p, t, f, err):\n",
    "    '''\n",
    "    log likelihood of the transit model\n",
    "    '''\n",
    "    assert len(params) == 6\n",
    "    m = transit_model_q(params, p, t)\n",
    "        \n",
    "    resid = f - m\n",
    "    \n",
    "    #-0.5*(np.sum((resid)**2 * np.exp(-2*ls) + 2*ls))\n",
    "    C = np.log(2*np.pi)\n",
    "    \n",
    "    return -0.5*(np.sum(np.log(err) + C + (resid/err)**2))"
   ]
  },
  {
   "cell_type": "markdown",
   "metadata": {},
   "source": [
    "Alternatively, use the optimized transit parameters from part5."
   ]
  },
  {
   "cell_type": "code",
   "execution_count": 10,
   "metadata": {
    "ExecuteTime": {
     "end_time": "2017-11-11T06:01:57.088942Z",
     "start_time": "2017-11-11T06:01:57.079586Z"
    },
    "collapsed": true
   },
   "outputs": [],
   "source": [
    "optimized_transit_params= {'g': np.array([  1.28330953e-01,   6.94722181e-01,   4.65491536e-01,\n",
    "          7.80021976e+03,   1.21625800e+01,   1.72028975e-01]),\n",
    " 'r': np.array([  1.28408329e-01,   5.53907376e-01,   3.49739851e-01,\n",
    "          7.80021952e+03,   1.22467056e+01,   1.72044914e-01]),\n",
    " 'z': np.array([  1.25171086e-01,   3.43090243e-01,   2.07678538e-01,\n",
    "          7.80021956e+03,   1.22930550e+01,   1.71164788e-01])}"
   ]
  },
  {
   "cell_type": "code",
   "execution_count": 11,
   "metadata": {
    "ExecuteTime": {
     "end_time": "2017-11-11T06:01:57.101253Z",
     "start_time": "2017-11-11T06:01:57.093669Z"
    }
   },
   "outputs": [
    {
     "data": {
      "text/plain": [
       "Index(['airmass', 'sky(ADU)', 'dx(pix)', 'dy(pix)', 'fwhm(pix)', 'peak(ADU)',\n",
       "       'flux(r=9.0)', 'err(r=9.0)', 'flux(r=10.0)', 'err(r=10.0)',\n",
       "       'flux(r=11.0)', 'err(r=11.0)', 'flux(r=12.0)', 'err(r=12.0)',\n",
       "       'flux(r=13.0)', 'err(r=13.0)', 'flux(r=14.0)', 'err(r=14.0)'],\n",
       "      dtype='object')"
      ]
     },
     "execution_count": 11,
     "metadata": {},
     "output_type": "execute_result"
    }
   ],
   "source": [
    "df.columns"
   ]
  },
  {
   "cell_type": "code",
   "execution_count": 30,
   "metadata": {
    "ExecuteTime": {
     "end_time": "2017-11-11T06:18:55.303041Z",
     "start_time": "2017-11-11T06:18:55.296887Z"
    },
    "collapsed": true
   },
   "outputs": [],
   "source": [
    "def rms(flux,flux_model):\n",
    "    residual = flux-flux_model\n",
    "    #return np.sqrt((residual**2).sum()/residual.size)\n",
    "    \n",
    "    #(flux/sys_model - transit_model) / error,\n",
    "    #or (flux - transit_model*sys_model) / error\n",
    "\n",
    "    return np.sqrt(np.mean((residual)**2))"
   ]
  },
  {
   "cell_type": "code",
   "execution_count": 14,
   "metadata": {
    "ExecuteTime": {
     "end_time": "2017-11-11T06:01:57.289232Z",
     "start_time": "2017-11-11T06:01:57.264735Z"
    },
    "collapsed": true
   },
   "outputs": [],
   "source": [
    "def chisq(resid, sig, ndata=None, nparams=None, reduced=False):\n",
    "    if reduced:\n",
    "        assert ndata is not None and nparams is not None\n",
    "        dof = ndata - nparams\n",
    "        return sum((resid / sig)**2) / (dof)\n",
    "    else:\n",
    "        return sum((resid / sig)**2)"
   ]
  },
  {
   "cell_type": "code",
   "execution_count": 36,
   "metadata": {
    "ExecuteTime": {
     "end_time": "2017-11-11T06:25:05.769349Z",
     "start_time": "2017-11-11T06:25:05.665921Z"
    }
   },
   "outputs": [
    {
     "name": "stdout",
     "output_type": "stream",
     "text": [
      "aperture\trms (%)\n",
      "g-band\n",
      "(r=9.0):\t0.297\n",
      "(r=10.0):\t0.268\n",
      "(r=11.0):\t0.264\n",
      "(r=12.0):\t0.263\n",
      "(r=13.0):\t0.269\n",
      "(r=14.0):\t0.273\n",
      "r-band\n",
      "(r=9.0):\t0.281\n",
      "(r=10.0):\t0.267\n",
      "(r=11.0):\t0.260\n",
      "(r=12.0):\t0.265\n",
      "(r=13.0):\t0.259\n",
      "(r=14.0):\t0.259\n",
      "z-band\n",
      "(r=9.0):\t0.268\n",
      "(r=10.0):\t0.271\n",
      "(r=11.0):\t0.280\n",
      "(r=12.0):\t0.279\n",
      "(r=13.0):\t0.284\n",
      "(r=14.0):\t0.290\n"
     ]
    }
   ],
   "source": [
    "bands = 'g,r,z'.split(',')\n",
    "\n",
    "\n",
    "RMS       = {}\n",
    "\n",
    "print('aperture\\trms (%)')\n",
    "for b in bands:\n",
    "    df = data[b]\n",
    "    \n",
    "    apertures = {}\n",
    "    \n",
    "    print('{}-band'.format(b))\n",
    "    for i in np.arange(9,15,1):\n",
    "        aperture = '(r={:.1f})'.format(i)\n",
    "        errcol  = 'err' + aperture\n",
    "        fluxcol = 'flux'+ aperture\n",
    "                \n",
    "        time = df.index\n",
    "        flux = df[fluxcol]\n",
    "        err  = df[errcol]\n",
    "        #q1_,q2_ = u_to_q(ldc_list[0],ldc_list[1])\n",
    "        #params = [_k,q1_,q2_,tc_0,_a_s,_b]\n",
    "        #transit_model_before  = transit_model_q(transit_params, _P, time)\n",
    "\n",
    "        #rms_before = rms(flux,transit_model_before)\n",
    "        #print('rms before: {:.4f}'.format(rms_before))\n",
    "\n",
    "        #optimize parameters\n",
    "        #result = op.minimize(obj, transit_params,\n",
    "        #                     args=(_P, time, flux, err), method='nelder-mead')\n",
    "        params = optimized_transit_params[b]\n",
    "        transit_model = transit_model_q(params, _P, time)\n",
    "        \n",
    "        rms_err = rms(flux,transit_model)*100 #in %\n",
    "        \n",
    "        print('{}:\\t{:.3f}'.format(aperture, rms_err))\n",
    "        apertures[i] = rms_err\n",
    "        \n",
    "    RMS[b] = apertures"
   ]
  },
  {
   "cell_type": "code",
   "execution_count": 37,
   "metadata": {
    "ExecuteTime": {
     "end_time": "2017-11-11T06:25:07.361614Z",
     "start_time": "2017-11-11T06:25:07.345984Z"
    }
   },
   "outputs": [
    {
     "name": "stdout",
     "output_type": "stream",
     "text": [
      "aperture with minimum rms error (%):\n",
      "g-band\n",
      "r=9.0:\trms:0.30\n",
      "r-band\n",
      "r=9.0:\trms:0.28\n",
      "z-band\n",
      "r=9.0:\trms:0.27\n"
     ]
    }
   ],
   "source": [
    "apers = list(apertures.keys())\n",
    "\n",
    "print('aperture with minimum rms error (%):')\n",
    "for ap,b in zip(apers,bands):\n",
    "    print('{}-band'.format(b))\n",
    "    \n",
    "    idx=np.argmin(RMS[b].values())\n",
    "    key = apers[idx]\n",
    "    min_rms = RMS[b][key]\n",
    "    print('r={}.0:\\trms:{:.2f}'.format(key,min_rms))"
   ]
  },
  {
   "cell_type": "markdown",
   "metadata": {},
   "source": [
    "## Target, Comparison ID: 2, 3"
   ]
  },
  {
   "cell_type": "code",
   "execution_count": 76,
   "metadata": {
    "ExecuteTime": {
     "end_time": "2017-11-11T06:39:36.216435Z",
     "start_time": "2017-11-11T06:39:36.195657Z"
    }
   },
   "outputs": [
    {
     "data": {
      "text/plain": [
       "'../HAT-P-44b/lcf_msct_g_hatp44_170215_t2_c3_r9-14.bjd.dat'"
      ]
     },
     "execution_count": 76,
     "metadata": {},
     "output_type": "execute_result"
    }
   ],
   "source": [
    "name               = 'hatp44'\n",
    "date               = '170215'\n",
    "target_star_id     = '2'\n",
    "comparison_star_id = '3'\n",
    "radii_range        = '9-14'\n",
    "b                  = 'g'\n",
    "\n",
    "#filename\n",
    "fname='lcf_msct_'+b+'_'+name+'_'+date+'_t'+target_star_id+'_c'+comparison_star_id+'_r'+radii_range+'.bjd.dat'\n",
    "path = os.path.join(dirname,fname)\n",
    "path"
   ]
  },
  {
   "cell_type": "code",
   "execution_count": 77,
   "metadata": {
    "ExecuteTime": {
     "end_time": "2017-11-11T06:39:39.598537Z",
     "start_time": "2017-11-11T06:39:39.486938Z"
    },
    "collapsed": true
   },
   "outputs": [],
   "source": [
    "data2 = {}\n",
    "\n",
    "sigma = 5.0\n",
    "\n",
    "\n",
    "for b in bands:\n",
    "    fname = 'lcf_msct_'+b+'_'+name+'_'+date+'_t'+target_star_id+'_c'+\\\n",
    "            comparison_star_id+'_r'+radii_range+'.bjd.dat'\n",
    "    \n",
    "    #combine directory name and filename above\n",
    "    path  = os.path.join(dirname,fname)\n",
    "    \n",
    "    #read data and save into a dataframe\n",
    "    df=pd.read_csv(path, delimiter=',', parse_dates=True)\n",
    "    \n",
    "    #remove columns (axis=1) with names specified\n",
    "    df = pd.read_csv(path, delimiter=' ', parse_dates=True)\n",
    "    cols = np.array(df.columns.delete(0))\n",
    "    cols = np.append(cols,'dummy')\n",
    "\n",
    "    df.columns = cols\n",
    "    df = df.drop(['Unnamed: 21','frame','dummy'],axis=1)\n",
    "    df = df.set_index('BJD(TDB)-2450000')\n",
    "    \n",
    "    #find outliers\n",
    "    mask = np.abs(df-df.mean())>(sigma*df.std())\n",
    "    \n",
    "    #remove outliers\n",
    "    df = df[~mask]\n",
    "    \n",
    "    #remove nan\n",
    "    df = df.dropna()\n",
    "    \n",
    "    data2[b] =df"
   ]
  },
  {
   "cell_type": "code",
   "execution_count": 78,
   "metadata": {
    "ExecuteTime": {
     "end_time": "2017-11-11T06:39:53.097963Z",
     "start_time": "2017-11-11T06:39:52.977590Z"
    }
   },
   "outputs": [
    {
     "name": "stdout",
     "output_type": "stream",
     "text": [
      "aperture\trms (%)\n",
      "g-band\n",
      "(r=9.0):\t0.398\n",
      "(r=10.0):\t0.404\n",
      "(r=11.0):\t0.405\n",
      "(r=12.0):\t0.423\n",
      "(r=13.0):\t0.449\n",
      "(r=14.0):\t0.454\n",
      "r-band\n",
      "(r=9.0):\t0.315\n",
      "(r=10.0):\t0.307\n",
      "(r=11.0):\t0.319\n",
      "(r=12.0):\t0.327\n",
      "(r=13.0):\t0.346\n",
      "(r=14.0):\t0.353\n",
      "z-band\n",
      "(r=9.0):\t0.444\n",
      "(r=10.0):\t0.410\n",
      "(r=11.0):\t0.387\n",
      "(r=12.0):\t0.395\n",
      "(r=13.0):\t0.394\n",
      "(r=14.0):\t0.397\n"
     ]
    }
   ],
   "source": [
    "bands = 'g,r,z'.split(',')\n",
    "\n",
    "\n",
    "RMS2       = {}\n",
    "\n",
    "print('aperture\\trms (%)')\n",
    "for b in bands:\n",
    "    df = data2[b]\n",
    "    \n",
    "    apertures = {}\n",
    "    \n",
    "    print('{}-band'.format(b))\n",
    "    for i in np.arange(9,15,1):\n",
    "        aperture = '(r={:.1f})'.format(i)\n",
    "        errcol  = 'err' + aperture\n",
    "        fluxcol = 'flux'+ aperture\n",
    "                \n",
    "        time = df.index\n",
    "        flux = df[fluxcol]\n",
    "        err  = df[errcol]\n",
    "        #q1_,q2_ = u_to_q(ldc_list[0],ldc_list[1])\n",
    "        #params = [_k,q1_,q2_,tc_0,_a_s,_b]\n",
    "        #transit_model_before  = transit_model_q(transit_params, _P, time)\n",
    "\n",
    "        #rms_before = rms(flux,transit_model_before)\n",
    "        #print('rms before: {:.4f}'.format(rms_before))\n",
    "\n",
    "        #optimize parameters\n",
    "        #result = op.minimize(obj, transit_params,\n",
    "        #                     args=(_P, time, flux, err), method='nelder-mead')\n",
    "        params = optimized_transit_params[b]\n",
    "        transit_model = transit_model_q(params, _P, time)\n",
    "        \n",
    "        rms_err = rms(flux,transit_model)*100 #in %\n",
    "        \n",
    "        print('{}:\\t{:.3f}'.format(aperture, rms_err))\n",
    "        apertures[i] = rms_err\n",
    "        \n",
    "    RMS2[b] = apertures"
   ]
  },
  {
   "cell_type": "code",
   "execution_count": 79,
   "metadata": {
    "ExecuteTime": {
     "end_time": "2017-11-11T06:40:04.564001Z",
     "start_time": "2017-11-11T06:40:04.551574Z"
    }
   },
   "outputs": [
    {
     "name": "stdout",
     "output_type": "stream",
     "text": [
      "aperture with minimum rms error (%):\n",
      "g-band\n",
      "r=9.0:\trms:0.40\n",
      "r-band\n",
      "r=9.0:\trms:0.31\n",
      "z-band\n",
      "r=9.0:\trms:0.44\n"
     ]
    }
   ],
   "source": [
    "apers = list(apertures.keys())\n",
    "\n",
    "print('aperture with minimum rms error (%):')\n",
    "for ap,b in zip(apers,bands):\n",
    "    print('{}-band'.format(b))\n",
    "    \n",
    "    idx=np.argmin(RMS[b].values())\n",
    "    key = apers[idx]\n",
    "    min_rms = RMS2[b][key]\n",
    "    print('r={}.0:\\trms:{:.2f}'.format(key,min_rms))"
   ]
  },
  {
   "cell_type": "code",
   "execution_count": null,
   "metadata": {
    "collapsed": true
   },
   "outputs": [],
   "source": []
  }
 ],
 "metadata": {
  "kernelspec": {
   "display_name": "Python 3",
   "language": "python",
   "name": "python3"
  },
  "language_info": {
   "codemirror_mode": {
    "name": "ipython",
    "version": 3
   },
   "file_extension": ".py",
   "mimetype": "text/x-python",
   "name": "python",
   "nbconvert_exporter": "python",
   "pygments_lexer": "ipython3",
   "version": "3.6.1"
  }
 },
 "nbformat": 4,
 "nbformat_minor": 2
}
